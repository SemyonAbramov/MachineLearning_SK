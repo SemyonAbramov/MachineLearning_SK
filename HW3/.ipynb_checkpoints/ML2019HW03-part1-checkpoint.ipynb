{
 "cells": [
  {
   "cell_type": "markdown",
   "metadata": {},
   "source": [
    "# Home Assignment No. 3: Part 1 "
   ]
  },
  {
   "cell_type": "markdown",
   "metadata": {},
   "source": [
    "In this part of the homework you are to solve several problems related to machine learning algorithms.\n",
    "* For every separate problem you can get only 0 points or maximal points for this problem. There are **NO INTERMEDIATE scores**.\n",
    "* Your solution must me **COMPLETE**, i.e. contain all required formulas/proofs/detailed explanations.\n",
    "* You must write your solution for any problem just right after the words **BEGIN SOLUTION**. Attaching pictures of your handwriting is allowed, but **highly discouraged**.\n",
    "* If you want an easy life, you have to use **BUILT-IN METHODS** of `sklearn` library instead of writing tons of our yown code. There exists a class/method for almost everything you can imagine (related to this homework).\n",
    "* To do some tasks in this part of homework, you have to write **CODE** directly inside specified places inside notebook **CELLS**.\n",
    "* In some problems you may be asked to provide short discussion of the results. In this cases you have to create **MARKDOWN** cell with your comments right after the your code cell.\n",
    "* Your **SOLUTION** notebook **MUST BE REPRODUCIBLE**, i.e. if the reviewer decides to execute `Kernel` -> `Restart Kernel and Run All Cells`, after all the computation he will obtain exactly the same solution (with all the corresponding plots) as in your uploaded notebook. For this purpose, we suggest to fix random `seed` or (better) define `random_state=` inside every algorithm that uses some pseudorandomness.\n",
    "\n",
    "* Your code must be clear to the reviewer. For this purpose, try to include neccessary comments inside the code. But remember: **GOOD CODE MUST BE SELF-EXPLANATORY** without any additional comments.\n",
    "* The are problems with \\* mark - they are not obligatory. You can get **EXTRA POINTS** for solving them.\n",
    "## $\\LaTeX$ in Jupyter\n",
    "Jupyter has constantly improving $\\LaTeX$ support. Below are the basic methods to\n",
    "write **neat, tidy, and well typeset** equations in your notebooks:\n",
    "* to write an **inline** equation use \n",
    "```markdown\n",
    "$ you latex equation here $\n",
    "```\n",
    "* to write an equation, that is **displayed on a separate line** use \n",
    "```markdown\n",
    "$$ you latex equation here $$\n",
    "```\n",
    "* to write a **block of equations** use \n",
    "```markdown\n",
    "\\begin{align}\n",
    "    left-hand-side\n",
    "        &= right-hand-side on line 1\n",
    "        \\\\\n",
    "        &= right-hand-side on line 2\n",
    "        \\\\\n",
    "        &= right-hand-side on the last line\n",
    "\\end{align}\n",
    "```\n",
    "The **ampersand** (`&`) aligns the equations horizontally and the **double backslash**\n",
    "(`\\\\`) creates a new line."
   ]
  },
  {
   "cell_type": "markdown",
   "metadata": {},
   "source": [
    "Write your theoretical derivations within such blocks:\n",
    "```markdown\n",
    "**BEGIN Solution**\n",
    "\n",
    "<!-- >>> your derivation here <<< -->\n",
    "\n",
    "**END Solution**\n",
    "```"
   ]
  },
  {
   "cell_type": "markdown",
   "metadata": {},
   "source": [
    "Please, write your implementation within the designated blocks:\n",
    "```python\n",
    "...\n",
    "### BEGIN Solution\n",
    "\n",
    "# >>> your solution here <<<\n",
    "\n",
    "### END Solution\n",
    "...\n",
    "```\n"
   ]
  },
  {
   "cell_type": "markdown",
   "metadata": {},
   "source": [
    "<br>"
   ]
  },
  {
   "cell_type": "code",
   "execution_count": null,
   "metadata": {},
   "outputs": [],
   "source": [
    "import numpy as np\n",
    "import pandas as pd\n",
    "\n",
    "import torch\n",
    "\n",
    "%matplotlib inline\n",
    "import matplotlib.pyplot as plt"
   ]
  },
  {
   "cell_type": "markdown",
   "metadata": {},
   "source": [
    "<br>"
   ]
  },
  {
   "cell_type": "markdown",
   "metadata": {},
   "source": [
    "# Bayesian Models. GLM"
   ]
  },
  {
   "cell_type": "markdown",
   "metadata": {},
   "source": [
    "## Task 1 (1 pt.)\n",
    "\n",
    "Consider a univariate Gaussian distribution $\\mathcal{N}(x; \\mu, \\tau^{-1})$.\n",
    "Let's define Gaussian-Gamma prior for parameters $(\\mu, \\tau)$:\n",
    "\n",
    "\\begin{equation}\n",
    "    p(\\mu, \\tau)\n",
    "        = \\mathcal{N}(\\mu; \\mu_0, (\\beta \\tau)^{-1})\n",
    "            \\otimes \\text{Gamma}(\\tau; a, b)\n",
    "        \\,.\n",
    "\\end{equation}\n",
    "\n",
    "Find the posterior distribution of $(\\mu, \\tau)$ after observing $X = (x_1, \\dots, x_n)$."
   ]
  },
  {
   "cell_type": "markdown",
   "metadata": {},
   "source": [
    "**BEGIN Solution**<br>\n",
    "Let's consider given Gaussian-Gamma distribution $p(\\mu, \\tau) = \\mathcal{N}(\\mu; \\mu_0, (\\beta \\tau)^{-1}) \\otimes \\text{Gamma}(\\tau; a, b)$, where\n",
    "\n",
    "$$\n",
    "    \\text{Gamma}(\\tau; a, b) = \\dfrac{b^{a}}{\\Gamma(a)}\\tau^{a - 1}\\exp(-\\tau b)\n",
    "$$\n",
    "\n",
    "$$\n",
    "    N(\\mu; \\mu_{0},(\\beta \\tau)^{-1}) = \\dfrac{1}{(2\\pi (\\beta \\tau)^{-1})^{\\frac{1}{2}}}\\exp\\big(-\\dfrac{1}{2(\\beta \\tau)^{-1}}(\\mu - \\mu_{0})^{2}\\big)\n",
    "$$\n",
    "So,\n",
    "$$\n",
    "    p(\\mu, \\tau) = \\mathcal{N}(\\mu; \\mu_0, (\\beta \\tau)^{-1}) \\otimes \\text{Gamma}(\\tau; a, b) = \\dfrac{b^{a}}{\\Gamma(a)}\\tau^{a - \\frac{1}{2}} \\dfrac{\\beta^{\\frac{1}{2}}}{(2\\pi)^{\\frac{1}{2}}} \\exp(-\\tau b) \\exp\\big(-\\dfrac{1}{2(\\beta \\tau)^{-1}}(\\mu - \\mu_{0})^{2}\\big)\n",
    "$$\n",
    "\n",
    "For posterior distribution we have posterior ~ likelihood $\\times$ prior\n",
    "\n",
    "$$\n",
    "    p(\\mu, \\tau \\vert X) \\sim p(X \\vert \\mu, \\tau)p(\\mu, \\tau) \\space \\space \\space \\text{(posterior ~ likelihood $\\times$ prior)}\n",
    "$$\n",
    "\n",
    "Likelihood is given by\n",
    "$$\n",
    "    p(X \\vert \\mu, \\tau) = \\prod_{i = 1}^{n} \\mathcal{N}(X \\vert \\mu, \\tau^{-1}) = \\dfrac{1}{(2\\pi)^{\\frac{n}{2}}}\\tau^{\\frac{n}{2}}\\exp\\big(-\\dfrac{\\tau}{2}\\sum_{i = 1}^{n}(x_{i} - \\mu)^{2}\\big)\n",
    "$$\n",
    "\n",
    "Using notation $\\bar{x} = \\dfrac{\\sum_{i = 1}^{n}x_{i}}{n}$, we will have\n",
    "\n",
    "$$\n",
    "    p(\\mu, \\tau \\vert X) \\sim \\dfrac{b^{a}}{\\Gamma(a)}\\tau^{a - \\frac{1}{2}} \\dfrac{\\beta^{\\frac{1}{2}}}{(2\\pi)^{\\frac{1}{2}}} \\exp(-\\tau b) \\exp\\big(-\\dfrac{1}{2(\\beta \\tau)^{-1}}(\\mu - \\mu_{0})^{2}\\big) \\dfrac{1}{(2\\pi)^{\\frac{n}{2}}}\\tau^{\\frac{n}{2}}\\exp\\big(-\\dfrac{\\tau}{2}\\sum_{i = 1}^{n}(x_{i} - \\mu)^{2}\\big)\n",
    "$$\n",
    "\n",
    "$$\n",
    "    p(\\mu, \\tau \\vert X) \\sim \\dfrac{b^{a}}{\\Gamma(a)}\\tau^{a - \\frac{1}{2}} \\dfrac{\\beta^{\\frac{1}{2}}}{(2\\pi)^{\\frac{1}{2}}} \\dfrac{1}{(2\\pi)^{\\frac{n}{2}}}\\tau^{\\frac{n}{2}} \\exp(-\\tau b)\\exp\\big(-\\dfrac{1}{2(\\beta \\tau)^{-1}}(\\mu - \\mu_{0})^{2}\\big) \\exp\\big(-\\dfrac{\\tau}{2}\\sum_{i = 1}^{n}(x_{i} - \\mu)^{2}\\big)\n",
    "$$\n",
    "\n",
    "$$\n",
    "    p(\\mu, \\tau \\vert X) \\sim \\dfrac{b^{a}}{\\Gamma(a)}\\tau^{\\frac{n}{2} + a - \\frac{1}{2}} \\dfrac{\\beta^{\\frac{1}{2}}}{(2\\pi)^{\\big(\\frac{1}{2} + \\frac{n}{2}\\big)}} \\exp(-\\tau b)\\exp\\big(-\\dfrac{\\beta \\tau}{2}(\\mu - \\mu_{0})^{2}\\big) \\exp\\big(-\\dfrac{\\tau}{2}\\big(n(\\mu - \\bar{x})^{2} + \\sum_{i = 1}^{n}(x_{i} - x)^{2}\\big)\\big)\n",
    "$$\n",
    "\n",
    "$$\n",
    "    p(\\mu, \\tau \\vert X) \\sim \\dfrac{b^{a}}{\\Gamma(a)}\\tau^{\\frac{n}{2} + a - \\frac{1}{2}} \\dfrac{\\beta^{\\frac{1}{2}}}{(2\\pi)^{\\big(\\frac{1}{2} + \\frac{n}{2}\\big)}} \\exp(-\\tau b)\\exp\\big(\\dfrac{\\tau}{2}\\big(\\beta(\\mu - \\mu_{0})^{2} + n(\\mu - \\bar{x})^{2} + \\sum_{i = 1}^{n}(x_{i} - x)^{2}\\big)\\big)\n",
    "$$\n",
    "\n",
    "Since\n",
    "\n",
    "$$\n",
    "    \\beta(\\mu - \\mu_{0})^{2} + n(\\bar{x} - \\mu)^{2} = \\beta \\mu^2 - 2\\beta\\mu\\mu_{0} + \\beta\\mu_{0}^{2} + n\\bar{x}^{2} -2n\\bar{x}\\mu + n\\mu^{2} = (\\beta + n)\\mu^{2} - 2(\\beta\\mu_{0} + n\\bar{x})\\mu + \\beta\\mu_{0}^{2} + n\\bar{x}^{2}\n",
    "$$\n",
    "\n",
    "$$\n",
    "    \\to \\beta(\\mu - \\mu_{0})^{2} + n(\\bar{x} - \\mu)^{2} = (\\beta + n)\\left(\\mu - \\frac{\\beta\\mu_{0} + n\\bar{x}}{(\\beta + n)}\\right)^{2} + \\frac{\\beta n(\\bar{x} - \\mu_{0})^{2}}{(\\beta + n)}\n",
    "$$\n",
    "\n",
    "then\n",
    "\n",
    "$$\n",
    "    p(\\mu, \\tau \\vert X) \\sim \\dfrac{b^{a}}{\\Gamma(a)}\\tau^{\\frac{n}{2} + a - \\frac{1}{2}} \\dfrac{\\beta^{\\frac{1}{2}}}{(2\\pi)^{\\big(\\frac{1}{2} + \\frac{n}{2}\\big)}} \\exp(-\\tau b)\\exp\\big(\\dfrac{\\tau}{2}\\big( (\\beta + n)\\big(\\mu - \\dfrac{\\beta \\mu_{0} + n\\bar{x}}{\\beta + n}\\big)^{2} + \\dfrac{\\beta n (\\bar{x} - \\mu_{0})^{2}}{\\beta + n} + \\sum_{i = 1}^{n}(x_{i} - x)^{2}\\big)\\big)\n",
    "$$\n",
    "\n",
    "So posterior distribution is expressed as,\n",
    "\n",
    "$$\n",
    "    p(\\mu, \\tau \\vert X) \\sim \\mathcal{N}\\big(\\mu; \\dfrac{\\beta \\mu_{0} + n\\bar{x}}{\\beta + n}, ((\\beta + n)\\tau)^{-1}\\big) \\otimes \\text{Gamma}\\big(\\tau; a + \\dfrac{n}{2}, b + \\dfrac{\\beta n (\\bar{x} - \\mu_{0})^{2}}{2(\\beta + n)} + \\dfrac{1}{2}\\sum_{i = 1}^{n}(x_{i} - x)^{2}\\big)\n",
    "$$\n",
    "\n",
    "**END Solution**"
   ]
  },
  {
   "cell_type": "markdown",
   "metadata": {},
   "source": [
    "<br>"
   ]
  },
  {
   "cell_type": "markdown",
   "metadata": {},
   "source": [
    "## Task 2 (1 + 1 + 1 = 3 pt.)\n",
    "\n",
    "Evaluate the following integral using the Laplace approximation:\n",
    "\\begin{equation}\n",
    "    x \\mapsto \\int \\sigma(w^T x) \\mathcal{N}(w; 0, \\Sigma) dw \\,,\n",
    "\\end{equation}\n",
    "for $x = \\bigl(\\tfrac23, \\tfrac16, \\tfrac16\\bigr)\\in \\mathbb{R}^3$ and \n",
    "\\begin{equation}\n",
    "    \\Sigma\n",
    "        = \\begin{pmatrix}\n",
    "             1    & -0.25 & 0.75 \\\\\n",
    "            -0.25 &  1    & 0.5  \\\\\n",
    "             0.75 &  0.5  & 2\n",
    "           \\end{pmatrix}\n",
    "        \\,.\n",
    "\\end{equation}"
   ]
  },
  {
   "cell_type": "markdown",
   "metadata": {},
   "source": [
    "### Task 2.1 (1 pt.)\n",
    "Use the Hessian matrix computed numericaly via finite differences. (Check out [Numdifftools](https://pypi.python.org/pypi/Numdifftools))"
   ]
  },
  {
   "cell_type": "code",
   "execution_count": 4,
   "metadata": {},
   "outputs": [],
   "source": [
    "import numdifftools as nd\n",
    "from scipy.optimize import minimize\n",
    "import numpy as np\n",
    "\n",
    "%matplotlib inline\n",
    "import matplotlib.pyplot as plt"
   ]
  },
  {
   "cell_type": "markdown",
   "metadata": {},
   "source": [
    "### We will use Laplace approximation as described by Bishop in \"Pattern Recognition and Machine Learning\", chapter 4.4"
   ]
  },
  {
   "cell_type": "code",
   "execution_count": 5,
   "metadata": {},
   "outputs": [],
   "source": [
    "### BEGIN Solution\n",
    "\n",
    "def dfunc(w):\n",
    "    x = np.array([2/3, 1/6, 1/6])\n",
    "    cov_matrix = np.array([[1.0, -0.25, 0.75], [-0.25, 1.0, 0.5], [0.75, 0.5, 2.0]])\n",
    "    w = w.astype(dtype = np.float64)\n",
    "    \n",
    "    sigma = 1 / (1 + np.exp(-w.T @ x))\n",
    "    gaussian_distr = (1 / (2 * np.pi)**(3/2)) * (1 / (np.linalg.det(cov_matrix))**(1/2)) *  np.exp(-0.5 * w.T @ np.linalg.inv(cov_matrix) @ w)\n",
    "    \n",
    "    return sigma * gaussian_distr\n",
    "\n",
    "def minus_ln_dfunc(w):\n",
    "    return -np.log(dfunc(w))\n",
    "\n",
    "### END Solution"
   ]
  },
  {
   "cell_type": "code",
   "execution_count": 6,
   "metadata": {
    "scrolled": true
   },
   "outputs": [
    {
     "name": "stdout",
     "output_type": "stream",
     "text": [
      "The value of integral:  0.49791972092509307\n"
     ]
    }
   ],
   "source": [
    "import warnings\n",
    "warnings.filterwarnings('ignore')\n",
    "\n",
    "w_init = np.array([0.1, 0.3, 0.4])\n",
    "w_optimal = minimize(minus_ln_dfunc, x0=w_init).x\n",
    "\n",
    "H = nd.Hessian(minus_ln_dfunc)(w_optimal)\n",
    "\n",
    "norm_integral = dfunc(w_optimal) * (2 * np.pi)**(3/2) / (np.linalg.det(H))**(1/2)\n",
    "\n",
    "print (\"The value of integral: \", norm_integral)"
   ]
  },
  {
   "cell_type": "markdown",
   "metadata": {},
   "source": [
    "<br>"
   ]
  },
  {
   "cell_type": "markdown",
   "metadata": {},
   "source": [
    "### Task 2.2 (1 pt.)\n",
    "Use the diagonal approximation of the Hessian computed by autodifferentiation\n",
    "in **pytorch**."
   ]
  },
  {
   "cell_type": "code",
   "execution_count": 7,
   "metadata": {},
   "outputs": [],
   "source": [
    "import torch\n",
    "from torch.autograd import Variable, grad"
   ]
  },
  {
   "cell_type": "code",
   "execution_count": 8,
   "metadata": {},
   "outputs": [],
   "source": [
    "### BEGIN Solution\n",
    "\n",
    "def dfunc_torch(w):\n",
    "    x = np.array([2/3, 1/6, 1/6])\n",
    "    x = Variable(torch.from_numpy(x).type(torch.FloatTensor))\n",
    "    cov_matrix = np.array([[1.0, -0.25, 0.75], [-0.25, 1.0, 0.5], [0.75, 0.5, 2.0]])\n",
    "    \n",
    "    inv_cov_matr = Variable(torch.from_numpy(np.linalg.inv(cov_matrix)).type(torch.FloatTensor))\n",
    "    gauss_distr = (1/((2*np.pi)**(3/2)*np.linalg.det(cov_matrix)**(1/2))) * torch.exp(-0.5 * w @ inv_cov_matr @ w)\n",
    "    \n",
    "    return gauss_distr * torch.sigmoid(torch.dot(w, x))\n",
    "    \n",
    "def minus_ln_dfunc_torch(w):\n",
    "    return -torch.log(dfunc_torch(w))\n",
    "\n",
    "def hessian_diag_approx(f, w):\n",
    "    z = Variable(torch.FloatTensor(w), requires_grad=True)\n",
    "    dim = z.size()[0]\n",
    "    \n",
    "    y = f(z)\n",
    "    first_grad = torch.autograd.grad(y, z, create_graph=True)[0]\n",
    "        \n",
    "    hessian = []\n",
    "    for i in range (dim):\n",
    "        hessian.append(torch.autograd.grad(first_grad[i], z, create_graph=True)[0].data.numpy())\n",
    "    \n",
    "    return np.diag(np.diag(hessian))\n",
    "\n",
    "\n",
    "### END Solution"
   ]
  },
  {
   "cell_type": "code",
   "execution_count": 9,
   "metadata": {},
   "outputs": [
    {
     "name": "stdout",
     "output_type": "stream",
     "text": [
      "The value of integral:  0.29643095\n"
     ]
    }
   ],
   "source": [
    "H = hessian_diag_approx(minus_ln_dfunc_torch, w_optimal)\n",
    "\n",
    "torch_norm_integral = dfunc_torch(Variable(torch.from_numpy(w_optimal).type(torch.FloatTensor))) * (2*np.pi)**(3/2) / np.linalg.det(H)**(1/2)\n",
    "torch_norm_integral = torch_norm_integral.data.numpy()\n",
    "\n",
    "print('The value of integral: ', torch_norm_integral)"
   ]
  },
  {
   "cell_type": "markdown",
   "metadata": {},
   "source": [
    "<br>"
   ]
  },
  {
   "cell_type": "markdown",
   "metadata": {},
   "source": [
    "### Task 2.3 (1 pt.)\n",
    "\n",
    "Compare the results comparing the `absolute errors` of the results (this is possible with Monte-Carlo estimate of the integral). Write 1-2 sentences in the results discussion."
   ]
  },
  {
   "cell_type": "code",
   "execution_count": 18,
   "metadata": {},
   "outputs": [],
   "source": [
    "from scipy.integrate import tplquad\n",
    "\n",
    "def itg_func(w1, w2, w3):\n",
    "    cov_matrix = np.array([[1.0, -0.25, 0.75], [-0.25, 1.0, 0.5], [0.75, 0.5, 2.0]])\n",
    "    x = np.array([2/3, 1/6, 1/6])\n",
    "    w = np.array([w1, w2, w3])\n",
    "    \n",
    "    return np.exp(-0.5 *w.T @ np.linalg.inv(cov_matrix) @ w)/((2 * np.pi)**(3/2) * np.linalg.det(cov_matrix)**(1/2) * (1.0 + np.exp(- w.T @ x)))\n",
    "\n",
    "itg_lim = 20\n",
    "\n",
    "def gf(x):\n",
    "    return -itg_lim\n",
    "\n",
    "def hf(x):\n",
    "    return itg_lim\n",
    "\n",
    "def qf(x, y):\n",
    "    return -itg_lim\n",
    "\n",
    "def rf(x, y):\n",
    "    return itg_lim\n",
    "\n",
    "tplquad_integral = tplquad(itg_func, -itg_lim, itg_lim, gf, hf, qf, rf)[0]\n",
    "\n",
    "print (\"tplquad integral value \", tplquad_integral)"
   ]
  },
  {
   "cell_type": "code",
   "execution_count": 19,
   "metadata": {},
   "outputs": [
    {
     "name": "stdout",
     "output_type": "stream",
     "text": [
      "Absolute error of Laplace approximation  0.002080279076777991\n",
      "Absolute error of torch  0.20356905460544772\n",
      "Relative error of Laplace approximation  0.004160558153540413\n",
      "Relative error of torch  0.4071381092093719\n"
     ]
    }
   ],
   "source": [
    "rel_err_laplace = np.abs(norm_integral - tplquad_integral) / tplquad_integral\n",
    "rel_err_torch = np.abs(torch_norm_integral - tplquad_integral) / tplquad_integral\n",
    "\n",
    "print (\"Absolute error of Laplace approximation \", np.abs(norm_integral - tplquad_integral))\n",
    "print (\"Absolute error of torch \", np.abs(torch_norm_integral - tplquad_integral))\n",
    "print (\"Relative error of Laplace approximation \", rel_err_laplace)\n",
    "print (\"Relative error of torch \", rel_err_torch)\n"
   ]
  },
  {
   "cell_type": "markdown",
   "metadata": {},
   "source": [
    "**BEGIN Solution** <br>\n",
    "\n",
    "***We can see that both absolute and relative errors of pytorch autograd implementation is much higher then the errors of Laplace approximation. Such difference caused by the diagonal approximation of Hessian applied in pytorch method (in Laplace approximation we used full Hessian).***\n",
    "\n",
    "**END Solution**"
   ]
  },
  {
   "cell_type": "markdown",
   "metadata": {},
   "source": [
    "<br>"
   ]
  },
  {
   "cell_type": "markdown",
   "metadata": {},
   "source": [
    "# Gaussian Processes"
   ]
  },
  {
   "cell_type": "markdown",
   "metadata": {},
   "source": [
    "## Task 3 (1 + 2 = 3 pt.)"
   ]
  },
  {
   "cell_type": "markdown",
   "metadata": {},
   "source": [
    "### Task 3.1 (1 pt.)\n",
    "\n",
    "Assuimng the matrices $A \\in \\mathbb{R}^{n \\times n}$ and $D \\in \\mathbb{R}^{d \\times d}$\n",
    "are invertible, using **gaussian elimination** find the inverse matrix for the following\n",
    "block matrix:\n",
    "\\begin{equation}\n",
    "    \\begin{pmatrix} A & B \\\\ C & D \\end{pmatrix} \\,,\n",
    "\\end{equation}\n",
    "where $C \\in \\mathbb{R}^{d \\times n}$ and $B \\in \\mathbb{R}^{n \\times d}$."
   ]
  },
  {
   "cell_type": "markdown",
   "metadata": {},
   "source": [
    "**BEGIN Solution**<br>\n",
    "Let's run ***gaussian elimination*** process on the given matrix.<br>\n",
    "On the first elimination step we have\n",
    "\n",
    "$$\n",
    "\\begin{pmatrix}\n",
    "    I & 0 \\\\\n",
    "    -CA^{-1} & I \n",
    "\\end{pmatrix} \n",
    "\\begin{pmatrix}\n",
    "    A & B \\\\\n",
    "    C & D \n",
    "\\end{pmatrix} = \n",
    "\\begin{pmatrix}\n",
    "    A & B \\\\\n",
    "    0 & D-CA^{-1}B \n",
    "\\end{pmatrix}\n",
    "$$\n",
    "\n",
    "Let's use ***Schur complement*** of the block $A$ of the original matrix. [Schur complement is often used in the gaussian elimination process.](https://en.wikipedia.org/wiki/Schur_complement)<br> \n",
    "So, denote $S \\doteq D-CA^{-1}B$ <br>\n",
    "Let's continue gaussian elimination process\n",
    "$$\n",
    "\\begin{pmatrix}\n",
    "    I & -BS^{-1} \\\\\n",
    "    0 & I \n",
    "\\end{pmatrix} \n",
    "\\begin{pmatrix}\n",
    "    A & B \\\\\n",
    "    0 & S\n",
    "\\end{pmatrix} = \n",
    "\\begin{pmatrix}\n",
    "    A & 0 \\\\\n",
    "    0 & S \n",
    "\\end{pmatrix}\n",
    "$$\n",
    "\n",
    "$$\n",
    "\\begin{pmatrix}\n",
    "    A^{-1} & 0 \\\\\n",
    "    0 & S^{-1}\n",
    "\\end{pmatrix} \n",
    "\\begin{pmatrix}\n",
    "    A & 0 \\\\\n",
    "    0 & S\n",
    "\\end{pmatrix} = \n",
    "\\begin{pmatrix} \n",
    "     I & 0 \\\\\n",
    "     0 & I \n",
    "\\end{pmatrix}\n",
    "$$\n",
    "\n",
    "Now, let's apply backward substitution and find the inverse matrix.<br>\n",
    "\n",
    "$$\n",
    "\\begin{pmatrix}\n",
    "    A & B \\\\ \n",
    "    C & D \n",
    "\\end{pmatrix}^{-1} = \n",
    "\\begin{pmatrix}\n",
    "    A^{-1} & 0 \\\\\n",
    "    0 & S^{-1} \n",
    "\\end{pmatrix}\n",
    "\\begin{pmatrix} \n",
    "    I & -BS^{-1} \\\\\n",
    "    0 & I \n",
    "\\end{pmatrix}\n",
    "\\begin{pmatrix} \n",
    "    I & 0 \\\\ \n",
    "    -CA^{-1} & I \n",
    "\\end{pmatrix}=\n",
    "\\begin{pmatrix} \n",
    "    A^{-1}+A^{-1}BS^{-1}CA^{-1} & -A^{-1}BS^{-1} \\\\ \n",
    "    -S^{-1}CA^{-1} & S^{-1}\n",
    "\\end{pmatrix}\n",
    "$$\n",
    "\n",
    "$$\n",
    "\\begin{pmatrix}\n",
    "    A & B \\\\ \n",
    "    C & D \n",
    "\\end{pmatrix}^{-1} =\n",
    "\\begin{pmatrix} \n",
    "    A^{-1}+A^{-1}B\\big(D-CA^{-1}B\\big)^{-1}CA^{-1} & -A^{-1}B\\big(D-CA^{-1}B\\big)^{-1} \\\\ \n",
    "    -\\big(D-CA^{-1}B\\big)^{-1}CA^{-1} & \\big(D-CA^{-1}B\\big)^{-1}\n",
    "\\end{pmatrix}\n",
    "$$\n",
    "\n",
    "**END Solution**"
   ]
  },
  {
   "cell_type": "markdown",
   "metadata": {},
   "source": [
    "<br>"
   ]
  },
  {
   "cell_type": "markdown",
   "metadata": {},
   "source": [
    "### Task 3.2 (2 pt.)\n",
    "\n",
    "Assume that the function $y(x)$, $x \\in \\mathbb{R}^d$, is a realization of the Gaussian\n",
    "Process $GP\\bigl(0; K(\\cdot, \\cdot)\\bigr)$ with $K(a, b) = \\exp({- \\gamma \\|a - b\\|_2^2}))$.\n",
    "\n",
    "Suppose two datasets were observed: **noiseless** ${D_0}$ and **noisy** ${D_1}$\n",
    "\\begin{aligned}\n",
    "    & D_0 = \\bigl(x_i, y(x_i) \\bigr)_{i=1}^{n} \\,, \\\\\n",
    "    & D_1 = \\bigl(x^\\prime_i, y(x^\\prime_i) + \\varepsilon_i \\bigr)_{i=1}^{m} \\,,\n",
    "\\end{aligned}\n",
    "where $\\varepsilon_i \\sim \\text{ iid } \\mathcal{N}(0, \\sigma^2)$, independent of process $y$.\n",
    "\n",
    "Derive the conditional distribution of $y(x) \\big\\vert_{D_0, D_1}$ at a new $x$."
   ]
  },
  {
   "cell_type": "markdown",
   "metadata": {},
   "source": [
    "**BEGIN Solution**<br>\n",
    "\n",
    "***Note:*** some derivations and information about Gaussian Processs Regression were taken from this [article](https://www.csie.ntu.edu.tw/~cjlin/mlgroup/tutorials/gpr.pdf).\n",
    "\n",
    "Let's consider ***Gaussian process regression***.<br>\n",
    "Given a sample $S = \\{ (x_1, y_1), \\dots (x_l, y_l)\\}$ and we have\n",
    "$$\n",
    "    y_{i} = f(x_{i}) + \\epsilon_{i}, \\quad \\epsilon_{i} \\sim \\mathcal{N(0, \\sigma^{2})}\n",
    "$$\n",
    "\n",
    "Gaussian Process Regression is a non-parametric model where\n",
    "$$\n",
    "    \\textbf{f} = \\lbrack f(x_1), \\dots, f(x_l)\\rbrack^{\\top} \\sim \\mathcal{N}(0, K),\n",
    "$$\n",
    "and\n",
    "$$\n",
    "    (\\textbf{y},\\textbf{f}) = (\\lbrack y_1, \\dots, y_l\\rbrack^{\\top} \\vert \\textbf{f}) \\sim \\mathcal{N}(\\textbf{f}, \\sigma^{2}I) \n",
    "$$\n",
    "\n",
    "where $K$ is a covariance matrix given by a kernel function for i'th and j'th elements $K(x_i, x_j)$\n",
    "\n",
    "For the given new instance $x^{*}$ the goal is to estimate\n",
    "$$\n",
    "    P(f(x^{*})\\vert x^{*}, S)\n",
    "$$\n",
    "\n",
    "We can estimate this via a Bayesian method. Let's denote $f(x^{*}) = f^{*}$\n",
    "\n",
    "$$\n",
    "    P(f(x^{*})\\vert x^{*}, S) = \\int P(f^{*}, \\textbf{f} | x^{*}, S)d\\textbf{f} = \\int P(f^{*} \\vert \\textbf{f}, x^{*}, S) P(\\textbf{f} \\vert x^{*}, S)d\\textbf{f}\n",
    "$$\n",
    "\n",
    "So, now we need to estimate $P(f^{*} \\vert \\textbf{f}, x^{*}, S)$ and $P(\\textbf{f} \\vert x^{*}, S)$.\n",
    "\n",
    "***1.*** $P(f^{*} \\vert \\textbf{f}, x^{*}, S)$.\n",
    "\n",
    "The joint distribution of $\\textbf{f}$ and $f^{*}$ is \n",
    "\n",
    "$$\n",
    "    \\lbrack \\textbf{f} \\quad f^{*}\\rbrack^{\\top} \\sim N \\bigg(0,  \n",
    "    \\begin{bmatrix}\n",
    "        K & \\textbf{k} \\\\ \n",
    "        \\textbf{k}^{\\top} & \\mathcal{K}(x^{*}, x^{*}) \n",
    "    \\end{bmatrix} \n",
    "    \\bigg),\n",
    "$$\n",
    "\n",
    "where $k \\doteq \\lbrack\\mathcal{K}(x^{*}, x_{1}), \\dots, \\mathcal{K}(x^{*}, x_{l})\\rbrack^{\\top}$.\n",
    "\n",
    "Consider\n",
    "$$\n",
    "\\begin{bmatrix}\n",
    "    A & \\textbf{b} \\\\ \n",
    "    \\textbf{b}^{\\top} & c \n",
    "\\end{bmatrix}\n",
    "\\equiv\n",
    "\\begin{bmatrix}\n",
    "    K & \\textbf{k} \\\\ \n",
    "    \\textbf{k}^{\\top} & \\mathcal{K}(x^{*}, x^{*}) \n",
    "\\end{bmatrix}^{-1}    \n",
    "$$\n",
    "\n",
    "Then, according to $ P(f^{*} \\vert \\textbf{f}) = \\dfrac{P(f^{*}, \\textbf{f})}{P(\\textbf{f})}$, we will get\n",
    "\n",
    "$$\n",
    "    P(f^{*} \\vert \\textbf{f}) \\sim \\exp\\bigg( -\\dfrac{(f^{*} - \\textbf{k}^{\\top}K^{-1}\\textbf{f})^{2}}{2(\\mathcal{K}(x^{*}, x^{*}) - \\textbf{k}^{\\top}K^{-1}\\textbf{k})} \\bigg),\n",
    "$$\n",
    "\n",
    "derivation of this formula is easy, just express coefficients $\\textbf{b}$ and $c$ from matrix and substitute in $ P(f^{*} \\vert \\textbf{f}) = \\dfrac{P(f^{*}, \\textbf{f})}{P(\\textbf{f})}$. Full derivation of the equation is given in the mentioned article.\n",
    "\n",
    "So, we have $(f^{*}\\vert \\textbf{f}) \\sim N\\big(\\textbf{k}^{\\top}K^{-1}\\textbf{f}, \\mathcal{K}(x^{*}, x^{*}) - \\textbf{k}^{\\top} K^{-1} \\textbf{k}\\big)$\n",
    "\n",
    "***2.*** $P(\\textbf{f} \\vert x^{*}, S)$.\n",
    "\n",
    "The core point in the derivation is to use\n",
    "\n",
    "$$\n",
    "    P(\\textbf{f} \\vert S) \\sim P(S \\vert \\textbf{f}) P(\\textbf{f}) = P(\\textbf{y}, \\textbf{x} \\vert \\textbf{f}) P(\\textbf{f}) = P(\\textbf{y}\\vert \\textbf{x}, \\textbf{f}) P(\\textbf{x} \\vert \\textbf{f}) P(\\textbf{f}) \\sim P(\\textbf{y} \\vert \\textbf{f}) P(\\textbf{f})\n",
    "$$\n",
    "\n",
    "It leads to\n",
    "\n",
    "$$\n",
    "    (\\textbf{f} \\vert S) \\sim \\mathcal{N} \\big( K(K + \\sigma^{2} I )^{-1} \\textbf{y}, \\sigma^{2} K(K + \\sigma^{2} I)^{-1}\\big)\n",
    "$$\n",
    "\n",
    "***3.***\n",
    "Finally, we will have ([derivation](https://www.csie.ntu.edu.tw/~cjlin/mlgroup/tutorials/gpr.pdf))\n",
    "\n",
    "$$\n",
    "    (f^{*} \\vert \\textbf{x}^{*}, S) \\sim \\mathcal{N}\\big( \\textbf{k}^{\\top} (K + \\sigma^{2} I)^{-1}\\textbf{y}, \\mathcal{K}(x^{*}, x^{*}) - \\textbf{k}^{\\top}(K + \\sigma^{2} I)^{-1}\\textbf{k}\\big)\n",
    "$$\n",
    "\n",
    "So, in our case we can denote $\\hat{f} = \\lbrack f(x_1), \\dots, f(x_n), f(x'_1), \\dots, f(x'_m)\\rbrack$ and $\\hat{y} = \\lbrack y(x_1), \\dots, y(x_n), y(x'_1), \\dots, y(x'_m)\\rbrack$.<br> \n",
    "\n",
    "\n",
    "Assume that new point is $x^{*}$, then we can denote $\\textbf{k} = \\lbrack \\mathcal{K}(x^{*}, x_1), \\dots, \\mathcal{K}(x^{*}, x_n), \\mathcal{K}(x^{*}, x'_1), \\dots, \\mathcal{K}(x^{*}, x'_m)\\rbrack^{\\top}$ <br>\n",
    "So, according to $(f^{*} \\vert \\textbf{x}^{*}, S) \\sim \\mathcal{N}\\big( \\textbf{k}^{\\top} (K + \\sigma^{2} I)^{-1}\\textbf{y}, \\mathcal{K}(x^{*}, x^{*}) - \\textbf{k}^{\\top}(K + \\sigma^{2} I)^{-1}\\textbf{k}\\big)$ conditional distribution at a new point $x^{*}$ will be\n",
    "\n",
    "$$\n",
    "   y(x) \\big\\vert_{D_0, D_1} \\doteq (y(x^{*}) \\vert \\hat{y}, D_0, D_1) \\sim \\mathcal{N}\\big( \\textbf{k}^{\\top} (K + \\sigma^{2} I)^{-1}\\hat{\\textbf{y}}, \\mathcal{K}(x^{*}, x^{*}) - \\textbf{k}^{\\top}(K + \\sigma^{2} I)^{-1}\\textbf{k}\\big)\n",
    "$$\n",
    "\n",
    "\n",
    "\n",
    "**END Solution**"
   ]
  },
  {
   "cell_type": "markdown",
   "metadata": {},
   "source": [
    "### <br>"
   ]
  },
  {
   "cell_type": "markdown",
   "metadata": {},
   "source": [
    "## Task 4 (1 + 2 = 3 pt.)"
   ]
  },
  {
   "cell_type": "markdown",
   "metadata": {},
   "source": [
    "### Task 4.1 (1 pt.)"
   ]
  },
  {
   "cell_type": "markdown",
   "metadata": {},
   "source": [
    "> In the late 1950’s Charles Keeling invented an accurate way to measure atmospheric $CO_2$ concentration and began taking regular measurements at the Mauna Loa observatory.\n"
   ]
  },
  {
   "cell_type": "markdown",
   "metadata": {},
   "source": [
    "Take `monthly_co2_mlo.csv` file, load it and prepare the data."
   ]
  },
  {
   "cell_type": "markdown",
   "metadata": {},
   "source": [
    "0. Load the `CO2 [ppm]` time series\n",
    "1. Replace $-99.99$ with **NaN** and drop the missing observations\n",
    "2. Split the time series into train and test\n",
    "3. Normalize the target value by fitting a transformation on the train\n",
    "4. Plot the resulting target against the time index"
   ]
  },
  {
   "cell_type": "code",
   "execution_count": 101,
   "metadata": {},
   "outputs": [],
   "source": [
    "import pandas as pd\n",
    "from sklearn.model_selection import train_test_split\n",
    "from sklearn.preprocessing import StandardScaler\n",
    "import numpy as np\n",
    "%matplotlib inline\n",
    "import matplotlib.pyplot as plt"
   ]
  },
  {
   "cell_type": "code",
   "execution_count": 102,
   "metadata": {},
   "outputs": [
    {
     "data": {
      "text/html": [
       "<div>\n",
       "<style scoped>\n",
       "    .dataframe tbody tr th:only-of-type {\n",
       "        vertical-align: middle;\n",
       "    }\n",
       "\n",
       "    .dataframe tbody tr th {\n",
       "        vertical-align: top;\n",
       "    }\n",
       "\n",
       "    .dataframe thead th {\n",
       "        text-align: right;\n",
       "    }\n",
       "</style>\n",
       "<table border=\"1\" class=\"dataframe\">\n",
       "  <thead>\n",
       "    <tr style=\"text-align: right;\">\n",
       "      <th></th>\n",
       "      <th>year</th>\n",
       "      <th>CO2 [ppm]</th>\n",
       "      <th>seasonally adjusted [ppm]</th>\n",
       "      <th>fit [ppm]</th>\n",
       "      <th>seasonally adjusted fit [ppm]</th>\n",
       "      <th>CO2 filled [ppm]</th>\n",
       "      <th>seasonally adjusted filled [ppm]</th>\n",
       "    </tr>\n",
       "  </thead>\n",
       "  <tbody>\n",
       "    <tr>\n",
       "      <th>0</th>\n",
       "      <td>1958.000000</td>\n",
       "      <td>-99.99</td>\n",
       "      <td>-99.99</td>\n",
       "      <td>-99.99</td>\n",
       "      <td>-99.99</td>\n",
       "      <td>-99.99</td>\n",
       "      <td>-99.99</td>\n",
       "    </tr>\n",
       "    <tr>\n",
       "      <th>1</th>\n",
       "      <td>1958.083333</td>\n",
       "      <td>-99.99</td>\n",
       "      <td>-99.99</td>\n",
       "      <td>-99.99</td>\n",
       "      <td>-99.99</td>\n",
       "      <td>-99.99</td>\n",
       "      <td>-99.99</td>\n",
       "    </tr>\n",
       "    <tr>\n",
       "      <th>2</th>\n",
       "      <td>1958.166667</td>\n",
       "      <td>315.70</td>\n",
       "      <td>314.43</td>\n",
       "      <td>316.19</td>\n",
       "      <td>314.90</td>\n",
       "      <td>315.70</td>\n",
       "      <td>314.43</td>\n",
       "    </tr>\n",
       "    <tr>\n",
       "      <th>3</th>\n",
       "      <td>1958.250000</td>\n",
       "      <td>317.45</td>\n",
       "      <td>315.15</td>\n",
       "      <td>317.30</td>\n",
       "      <td>314.98</td>\n",
       "      <td>317.45</td>\n",
       "      <td>315.15</td>\n",
       "    </tr>\n",
       "    <tr>\n",
       "      <th>4</th>\n",
       "      <td>1958.333333</td>\n",
       "      <td>317.51</td>\n",
       "      <td>314.72</td>\n",
       "      <td>317.85</td>\n",
       "      <td>315.06</td>\n",
       "      <td>317.51</td>\n",
       "      <td>314.72</td>\n",
       "    </tr>\n",
       "  </tbody>\n",
       "</table>\n",
       "</div>"
      ],
      "text/plain": [
       "          year  CO2 [ppm]  seasonally adjusted [ppm]  fit [ppm]  \\\n",
       "0  1958.000000     -99.99                     -99.99     -99.99   \n",
       "1  1958.083333     -99.99                     -99.99     -99.99   \n",
       "2  1958.166667     315.70                     314.43     316.19   \n",
       "3  1958.250000     317.45                     315.15     317.30   \n",
       "4  1958.333333     317.51                     314.72     317.85   \n",
       "\n",
       "   seasonally adjusted fit [ppm]  CO2 filled [ppm]  \\\n",
       "0                         -99.99            -99.99   \n",
       "1                         -99.99            -99.99   \n",
       "2                         314.90            315.70   \n",
       "3                         314.98            317.45   \n",
       "4                         315.06            317.51   \n",
       "\n",
       "   seasonally adjusted filled [ppm]  \n",
       "0                            -99.99  \n",
       "1                            -99.99  \n",
       "2                            314.43  \n",
       "3                            315.15  \n",
       "4                            314.72  "
      ]
     },
     "execution_count": 102,
     "metadata": {},
     "output_type": "execute_result"
    }
   ],
   "source": [
    "### BEGIN Solution\n",
    "\n",
    "dt = pd.read_csv('data/monthly_co2_mlo.csv')\n",
    "dt.head()\n",
    "\n",
    "### END Solution"
   ]
  },
  {
   "cell_type": "code",
   "execution_count": 103,
   "metadata": {},
   "outputs": [
    {
     "data": {
      "text/html": [
       "<div>\n",
       "<style scoped>\n",
       "    .dataframe tbody tr th:only-of-type {\n",
       "        vertical-align: middle;\n",
       "    }\n",
       "\n",
       "    .dataframe tbody tr th {\n",
       "        vertical-align: top;\n",
       "    }\n",
       "\n",
       "    .dataframe thead th {\n",
       "        text-align: right;\n",
       "    }\n",
       "</style>\n",
       "<table border=\"1\" class=\"dataframe\">\n",
       "  <thead>\n",
       "    <tr style=\"text-align: right;\">\n",
       "      <th></th>\n",
       "      <th>year</th>\n",
       "      <th>CO2 [ppm]</th>\n",
       "      <th>seasonally adjusted [ppm]</th>\n",
       "      <th>fit [ppm]</th>\n",
       "      <th>seasonally adjusted fit [ppm]</th>\n",
       "      <th>CO2 filled [ppm]</th>\n",
       "      <th>seasonally adjusted filled [ppm]</th>\n",
       "    </tr>\n",
       "  </thead>\n",
       "  <tbody>\n",
       "    <tr>\n",
       "      <th>2</th>\n",
       "      <td>0.166667</td>\n",
       "      <td>315.70</td>\n",
       "      <td>314.43</td>\n",
       "      <td>316.19</td>\n",
       "      <td>314.90</td>\n",
       "      <td>315.70</td>\n",
       "      <td>314.43</td>\n",
       "    </tr>\n",
       "    <tr>\n",
       "      <th>3</th>\n",
       "      <td>0.250000</td>\n",
       "      <td>317.45</td>\n",
       "      <td>315.15</td>\n",
       "      <td>317.30</td>\n",
       "      <td>314.98</td>\n",
       "      <td>317.45</td>\n",
       "      <td>315.15</td>\n",
       "    </tr>\n",
       "    <tr>\n",
       "      <th>4</th>\n",
       "      <td>0.333333</td>\n",
       "      <td>317.51</td>\n",
       "      <td>314.72</td>\n",
       "      <td>317.85</td>\n",
       "      <td>315.06</td>\n",
       "      <td>317.51</td>\n",
       "      <td>314.72</td>\n",
       "    </tr>\n",
       "    <tr>\n",
       "      <th>6</th>\n",
       "      <td>0.500000</td>\n",
       "      <td>315.86</td>\n",
       "      <td>315.18</td>\n",
       "      <td>315.87</td>\n",
       "      <td>315.22</td>\n",
       "      <td>315.86</td>\n",
       "      <td>315.18</td>\n",
       "    </tr>\n",
       "    <tr>\n",
       "      <th>7</th>\n",
       "      <td>0.583333</td>\n",
       "      <td>314.93</td>\n",
       "      <td>316.18</td>\n",
       "      <td>314.00</td>\n",
       "      <td>315.29</td>\n",
       "      <td>314.93</td>\n",
       "      <td>316.18</td>\n",
       "    </tr>\n",
       "  </tbody>\n",
       "</table>\n",
       "</div>"
      ],
      "text/plain": [
       "       year  CO2 [ppm]  seasonally adjusted [ppm]  fit [ppm]  \\\n",
       "2  0.166667     315.70                     314.43     316.19   \n",
       "3  0.250000     317.45                     315.15     317.30   \n",
       "4  0.333333     317.51                     314.72     317.85   \n",
       "6  0.500000     315.86                     315.18     315.87   \n",
       "7  0.583333     314.93                     316.18     314.00   \n",
       "\n",
       "   seasonally adjusted fit [ppm]  CO2 filled [ppm]  \\\n",
       "2                         314.90            315.70   \n",
       "3                         314.98            317.45   \n",
       "4                         315.06            317.51   \n",
       "6                         315.22            315.86   \n",
       "7                         315.29            314.93   \n",
       "\n",
       "   seasonally adjusted filled [ppm]  \n",
       "2                            314.43  \n",
       "3                            315.15  \n",
       "4                            314.72  \n",
       "6                            315.18  \n",
       "7                            316.18  "
      ]
     },
     "execution_count": 103,
     "metadata": {},
     "output_type": "execute_result"
    }
   ],
   "source": [
    "dt[dt==-99.99]=np.nan\n",
    "dt = dt.dropna()\n",
    "dt['year'] = dt['year'] - 1958\n",
    "dt.head()"
   ]
  },
  {
   "cell_type": "code",
   "execution_count": 104,
   "metadata": {},
   "outputs": [],
   "source": [
    "X = dt['year']\n",
    "y = dt['CO2 [ppm]']"
   ]
  },
  {
   "cell_type": "code",
   "execution_count": 105,
   "metadata": {},
   "outputs": [],
   "source": [
    "X_train, X_test, y_train, y_test = train_test_split(X, y, test_size=0.2, random_state=42, shuffle=False)"
   ]
  },
  {
   "cell_type": "code",
   "execution_count": 106,
   "metadata": {},
   "outputs": [],
   "source": [
    "X_train = np.array(X_train).reshape(-1,1)\n",
    "X_test = np.array(X_test).reshape(-1,1)\n",
    "y_train = np.array(y_train).reshape(-1,1)\n",
    "y_test = np.array(y_test).reshape(-1,1)"
   ]
  },
  {
   "cell_type": "code",
   "execution_count": 107,
   "metadata": {},
   "outputs": [],
   "source": [
    "scaler = StandardScaler()\n",
    "y_train = scaler.fit_transform(y_train)\n",
    "y_test = scaler.transform(y_test)"
   ]
  },
  {
   "cell_type": "code",
   "execution_count": 108,
   "metadata": {},
   "outputs": [
    {
     "data": {
      "image/png": "[encoded data removed]",
      "text/plain": [
       "<matplotlib.figure.Figure at 0x106551c50>"
      ]
     },
     "metadata": {
      "needs_background": "light"
     },
     "output_type": "display_data"
    }
   ],
   "source": [
    "y_min = np.min(y_train) - 0.05\n",
    "y_max = np.max(y_test) + 0.05\n",
    "\n",
    "fig = plt.figure(figsize=(14, 8))\n",
    "plt.plot(X_train, y_train, label=\"train split\")\n",
    "plt.plot(X_test, y_test, label=\"test split\")\n",
    "plt.vlines(X_test[0], y_min, y_max)\n",
    "plt.ylim([y_min, y_max])\n",
    "plt.xlabel('time')\n",
    "plt.ylabel('co2')\n",
    "plt.title(\"Normalized train and test split\")\n",
    "plt.legend(loc = \"upper left\")\n",
    "plt.grid()\n",
    "plt.show()"
   ]
  },
  {
   "cell_type": "markdown",
   "metadata": {},
   "source": [
    "<br>"
   ]
  },
  {
   "cell_type": "markdown",
   "metadata": {},
   "source": [
    "### Task 4.2 (2 pt.)\n",
    "\n",
    "Use [**GPy**](https://pypi.python.org/pypi/GPy) library for training and prediction. Fit a GP and run the predict on the test. Useful kernels to combine: `GPy.kern.RBF, GPy.kern.Poly, GPy.kern.StdPeriodic, GPy.kern.White, GPy.kern.Linear`. \n",
    "\n",
    "1. Plot mean and confidence interval of the prediction. \n",
    "2. Inspect them on normality by scatter plot: plot predicted points/time series against true values. \n",
    "3. Estimate the prediction error with `r2_score`. R2-score accepted > 0.83 on test sample."
   ]
  },
  {
   "cell_type": "code",
   "execution_count": 109,
   "metadata": {},
   "outputs": [],
   "source": [
    "from GPy.models import GPRegression\n",
    "from GPy.kern import RBF, Poly, StdPeriodic, White, Linear\n",
    "from sklearn.metrics import r2_score"
   ]
  },
  {
   "cell_type": "markdown",
   "metadata": {},
   "source": [
    "***Since gpy_plot doesn't work with the latest versions of GPy, Scipy and Numpy and, moreover, it sometimes doesn't work in some OSx environments, to avoid downgrading of packages, etc..., I will use slightly modificated plot function that was implemented on the seminar 14.***"
   ]
  },
  {
   "cell_type": "code",
   "execution_count": 110,
   "metadata": {},
   "outputs": [],
   "source": [
    "def plot_model(model, plt_title=\"\"):\n",
    "    x = model.X\n",
    "    prediction, variance = model.predict(x)\n",
    "    std = np.sqrt(variance).ravel()\n",
    "    prediction = prediction.ravel()\n",
    "    \n",
    "    fig = plt.figure(figsize=(16, 8))\n",
    "    plt.plot(model.X, model.Y, 'xk', label='Train data')\n",
    "    plt.plot(x, prediction, label='Mean')\n",
    "    plt.fill_between(x.ravel(), prediction - std,\n",
    "                     prediction + std, alpha=0.3, label='Confedence')\n",
    "    \n",
    "    plt.xlabel('x', fontsize=14)\n",
    "    plt.ylabel('y', fontsize=14)\n",
    "    plt.title(plt_title, fontsize = 16)\n",
    "    plt.legend()\n",
    "    plt.show()"
   ]
  },
  {
   "cell_type": "code",
   "execution_count": 111,
   "metadata": {},
   "outputs": [],
   "source": [
    "#!python3 -m pip install numpy==1.15.4\n",
    "#!python3 -m pip install scipy==1.1.0\n",
    "#!python3 -m pip install GPy==1.9.6"
   ]
  },
  {
   "cell_type": "markdown",
   "metadata": {},
   "source": [
    "***I will use combination of three kernel: RBF, Linear and StdPeriodic. StdPeriodic will capture oscillations, RBF and Linear kernels will capture the general trend.***"
   ]
  },
  {
   "cell_type": "code",
   "execution_count": 112,
   "metadata": {},
   "outputs": [
    {
     "data": {
      "image/png": "[encoded data removed]",
      "text/plain": [
       "<matplotlib.figure.Figure at 0x1065514e0>"
      ]
     },
     "metadata": {
      "needs_background": "light"
     },
     "output_type": "display_data"
    }
   ],
   "source": [
    "### BEGIN Solution\n",
    "input_dim = 1\n",
    "variance = 1\n",
    "lengthscale = 20\n",
    "kernel = RBF(input_dim, variance=variance, lengthscale=lengthscale)*Linear(input_dim=1) + StdPeriodic(input_dim=1)\n",
    "model = GPRegression(X_train, y_train, kernel)\n",
    "plot_model(model, \"Confedence interval of the prediction\")\n",
    "\n",
    "### END Solution"
   ]
  },
  {
   "cell_type": "markdown",
   "metadata": {},
   "source": [
    "***Indeed, we can see that that we captured oscillations as well as the trend.***"
   ]
  },
  {
   "cell_type": "code",
   "execution_count": 113,
   "metadata": {},
   "outputs": [],
   "source": [
    "#pred, variance = model.predict(X_test)\n",
    "#std = np.sqrt(variance).ravel()\n",
    "#pred = pred.ravel()\n",
    "\n",
    "#fig = plt.figure(figsize=(16, 8))\n",
    "\n",
    "#plt.plot(X_test, y_test, 'xk', label='Test data')\n",
    "#plt.plot(X_test, pred, label='Mean')\n",
    "#plt.fill_between(X_test.ravel(), pred - std, pred + std, alpha=0.3, label='Confedence')\n",
    "\n",
    "#plt.xlabel('x', fontsize=14)\n",
    "#plt.ylabel('y', fontsize=14)\n",
    "#plt.legend()\n",
    "#plt.title(\"Confedence interval of the test prediction\", fontsize = 16)\n",
    "#plt.show()"
   ]
  },
  {
   "cell_type": "code",
   "execution_count": 114,
   "metadata": {},
   "outputs": [
    {
     "data": {
      "image/png": "[encoded data removed]",
      "text/plain": [
       "<matplotlib.figure.Figure at 0x1051ead30>"
      ]
     },
     "metadata": {
      "needs_background": "light"
     },
     "output_type": "display_data"
    }
   ],
   "source": [
    "predictions, variance = model.predict(X_test)\n",
    "\n",
    "plt.figure(figsize=(12, 4))\n",
    "plt.plot(y_test, predictions, 'o')\n",
    "plt.plot(y_test, y_test, label='x = y')\n",
    "plt.xlabel('True value', fontsize = 12)\n",
    "plt.ylabel('Predicted value', fontsize = 12)\n",
    "plt.legend()\n",
    "plt.title(\"QQ plot\", fontsize = 14)\n",
    "plt.show()"
   ]
  },
  {
   "cell_type": "code",
   "execution_count": 115,
   "metadata": {},
   "outputs": [
    {
     "name": "stdout",
     "output_type": "stream",
     "text": [
      "R2 score is 0.9418475907022289\n"
     ]
    }
   ],
   "source": [
    "print('R2 score is', r2_score(pred, y_test))"
   ]
  }
 ],
 "metadata": {
  "kernelspec": {
   "display_name": "Python 3",
   "language": "python",
   "name": "python3"
  },
  "language_info": {
   "codemirror_mode": {
    "name": "ipython",
    "version": 3
   },
   "file_extension": ".py",
   "mimetype": "text/x-python",
   "name": "python",
   "nbconvert_exporter": "python",
   "pygments_lexer": "ipython3",
   "version": "3.6.5"
  }
 },
 "nbformat": 4,
 "nbformat_minor": 2
}
